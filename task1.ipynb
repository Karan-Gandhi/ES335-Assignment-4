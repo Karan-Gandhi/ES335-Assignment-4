{
 "cells": [
  {
   "cell_type": "markdown",
   "metadata": {},
   "source": [
    "Imports"
   ]
  },
  {
   "cell_type": "code",
   "execution_count": null,
   "metadata": {},
   "outputs": [],
   "source": [
    "import numpy as np\n",
    "from tensorflow.keras.preprocessing.image import load_img, img_to_array, ImageDataGenerator\n",
    "from keras.layers import Conv2D, MaxPooling2D, Flatten, Dense, Input\n",
    "from keras.optimizers import SGD\n",
    "from keras.models import Sequential\n",
    "import os\n",
    "import matplotlib.pyplot as plt\n",
    "from PIL import Image\n",
    "import time"
   ]
  },
  {
   "cell_type": "code",
   "execution_count": null,
   "metadata": {},
   "outputs": [],
   "source": [
    "PATH = os.path.abspath(os.getcwd())\n",
    "IMG_PATH = os.path.join(PATH, 'images')\n",
    "TRAIN_PATH = os.path.join(IMG_PATH, 'train')\n",
    "TEST_PATH = os.path.join(IMG_PATH, 'test')\n",
    "classes = ['kangaroo', 'yak']\n",
    "mapping =  {animal : i for i, animal in enumerate(classes)}\n",
    "inverse_mapping =  {i : animal for i, animal in enumerate(classes)}"
   ]
  },
  {
   "cell_type": "markdown",
   "metadata": {},
   "source": [
    "Displaying the dataset"
   ]
  },
  {
   "cell_type": "code",
   "execution_count": null,
   "metadata": {},
   "outputs": [],
   "source": [
    "for animal in classes:\n",
    "    folder = os.path.join(TRAIN_PATH, animal)\n",
    "    plt.figure(figsize=(10, 10))\n",
    "    plt.title(animal.capitalize())\n",
    "    for i, filename in enumerate(os.listdir(folder)[:9]):\n",
    "        img_path = os.path.join(folder, filename)\n",
    "        image = Image.open(img_path)\n",
    "        plt.subplot(330 + 1 + i)\n",
    "        plt.imshow(image)\n",
    "        plt.axis('off')\n",
    "    \n",
    "    plt.show()"
   ]
  },
  {
   "cell_type": "markdown",
   "metadata": {},
   "source": [
    "Loading the dataset to the memory"
   ]
  },
  {
   "cell_type": "code",
   "execution_count": null,
   "metadata": {},
   "outputs": [],
   "source": [
    "def load_images(folder_path):\n",
    "    photos, labels = [], []\n",
    "    for subdir in os.listdir(folder_path):\n",
    "        subdir_path = os.path.join(folder_path, subdir)\n",
    "        if os.path.isdir(subdir_path):\n",
    "            for filename in os.listdir(subdir_path):\n",
    "                if filename.endswith('.jpg'):\n",
    "                    img_path = os.path.join(subdir_path, filename)\n",
    "                    image = load_img(img_path)\n",
    "                    image_array = img_to_array(image)\n",
    "                    photos.append(image_array)\n",
    "                    labels.append(mapping[subdir])\n",
    "    return np.asarray(photos) / 255.0, np.asarray(labels)\n",
    "\n",
    "train_photos, train_labels = load_images(TRAIN_PATH)\n",
    "test_photos, test_labels = load_images(TEST_PATH)\n",
    "\n",
    "if not os.path.exists('train_photos.npy'):\n",
    "    np.save('train_photos.npy', train_photos)\n",
    "    print(\"Saved 'train_photos.npy'\")\n",
    "\n",
    "if not os.path.exists('train_labels.npy'):\n",
    "    np.save('train_labels.npy', train_labels)\n",
    "    print(\"Saved 'train_labels.npy'\")\n",
    "\n",
    "if not os.path.exists('test_photos.npy'):\n",
    "    np.save('test_photos.npy', test_photos)\n",
    "    print(\"Saved 'test_photos.npy'\")\n",
    "\n",
    "if not os.path.exists('test_labels.npy'):\n",
    "    np.save('test_labels.npy', test_labels)\n",
    "    print(\"Saved 'test_labels.npy'\")\n",
    "\n",
    "print(f'Training images shape: {train_photos.shape}')\n",
    "print(f'Training labels shape: {train_labels.shape}')\n",
    "print(f'Test images shape: {test_photos.shape}')\n",
    "print(f'Test labels shape: {test_labels.shape}')"
   ]
  },
  {
   "cell_type": "code",
   "execution_count": null,
   "metadata": {},
   "outputs": [],
   "source": [
    "train_photos = np.load('train_photos.npy')\n",
    "\n",
    "plt.figure(figsize=(10, 10))\n",
    "plt.title('Loaded Images')\n",
    "\n",
    "for i in range(9):\n",
    "    plt.subplot(330 + 1 + i)\n",
    "    plt.imshow(train_photos[i])\n",
    "    plt.axis('off')\n",
    "\n",
    "plt.show()"
   ]
  },
  {
   "cell_type": "code",
   "execution_count": null,
   "metadata": {},
   "outputs": [],
   "source": [
    "train_photos = np.load('train_photos.npy')\n",
    "train_labels = np.load('train_labels.npy')\n",
    "test_photos = np.load('test_photos.npy')\n",
    "test_labels = np.load('test_labels.npy')"
   ]
  },
  {
   "cell_type": "markdown",
   "metadata": {},
   "source": [
    "VGG1"
   ]
  },
  {
   "cell_type": "code",
   "execution_count": null,
   "metadata": {},
   "outputs": [],
   "source": [
    "def vgg1():\n",
    "\tmodel = Sequential()\n",
    "\tmodel.add(Input(shape=(256, 256, 3)))\n",
    "\tmodel.add(Conv2D(32, (3, 3), activation='relu', kernel_initializer='he_uniform', padding='same'))\n",
    "\tmodel.add(MaxPooling2D((2, 2)))\n",
    "\tmodel.add(Flatten())\n",
    "\tmodel.add(Dense(128, activation='relu', kernel_initializer='he_uniform'))\n",
    "\tmodel.add(Dense(1, activation='sigmoid'))\n",
    "\topt = SGD(learning_rate=0.001, momentum=0.9)\n",
    "\tmodel.compile(optimizer=opt, loss='binary_crossentropy', metrics=['accuracy'])\n",
    "\treturn model\n",
    "\n",
    "vgg1_model = vgg1()\n",
    "\n",
    "start_time = time.time()\n",
    "history = vgg1_model.fit(\n",
    "    train_photos, train_labels,\n",
    "    epochs=20,\n",
    "    batch_size=16,\n",
    "    verbose=1\n",
    ")\n",
    "end_time = time.time()\n",
    "\n",
    "_, acc = vgg1_model.evaluate(test_photos, test_labels, verbose=1)\n",
    "print('Test Accuracy: %.3f' % (acc * 100.0))\n",
    "print('Time taken:', end_time - start_time)\n",
    "vgg1_model.summary()"
   ]
  },
  {
   "cell_type": "markdown",
   "metadata": {},
   "source": [
    "VGG3 without data augmentation"
   ]
  },
  {
   "cell_type": "code",
   "execution_count": null,
   "metadata": {},
   "outputs": [],
   "source": [
    "def vgg3():\n",
    "\tmodel = Sequential()\n",
    "\tmodel.add(Input(shape=(256, 256, 3)))\n",
    "\tmodel.add(Conv2D(32, (3, 3), activation='relu', kernel_initializer='he_uniform', padding='same'))\n",
    "\tmodel.add(MaxPooling2D((2, 2)))\n",
    "\tmodel.add(Conv2D(64, (3, 3), activation='relu', kernel_initializer='he_uniform', padding='same'))\n",
    "\tmodel.add(MaxPooling2D((2, 2)))\n",
    "\tmodel.add(Conv2D(128, (3, 3), activation='relu', kernel_initializer='he_uniform', padding='same'))\n",
    "\tmodel.add(MaxPooling2D((2, 2)))\n",
    "\tmodel.add(Flatten())\n",
    "\tmodel.add(Dense(128, activation='relu', kernel_initializer='he_uniform'))\n",
    "\tmodel.add(Dense(1, activation='sigmoid'))\n",
    "\topt = SGD(learning_rate=0.001, momentum=0.9)\n",
    "\tmodel.compile(optimizer=opt, loss='binary_crossentropy', metrics=['accuracy'])\n",
    "\treturn model\n",
    "\n",
    "vgg3_no_aug = vgg3()\n",
    "\n",
    "start_time = time.time()\n",
    "history = vgg3_no_aug.fit(\n",
    "    train_photos, train_labels,\n",
    "    epochs=20,\n",
    "    batch_size=16,\n",
    "    verbose=1\n",
    ")\n",
    "end_time = time.time()\n",
    "\n",
    "_, acc = vgg3_no_aug.evaluate(test_photos, test_labels, verbose=1)\n",
    "print('Test Accuracy: %.3f' % (acc * 100.0))\n",
    "print('Time taken:', end_time - start_time)\n",
    "vgg3_no_aug.summary()"
   ]
  },
  {
   "cell_type": "markdown",
   "metadata": {},
   "source": [
    "VGG3 with data augmentation"
   ]
  },
  {
   "cell_type": "code",
   "execution_count": null,
   "metadata": {},
   "outputs": [],
   "source": [
    "train_datagen = ImageDataGenerator(\n",
    "    rotation_range=20,\n",
    "    width_shift_range=0.1,\n",
    "    height_shift_range=0.1,\n",
    "    shear_range=0.15,\n",
    "    zoom_range=0.2,\n",
    "    horizontal_flip=True,\n",
    "    fill_mode='nearest'\n",
    ")\n",
    "\n",
    "train_generator = train_datagen.flow(\n",
    "    train_photos, train_labels,\n",
    "    batch_size=16\n",
    ")\n",
    "\n",
    "vgg3_with_aug = vgg3()\n",
    "\n",
    "start_time = time.time()\n",
    "history = vgg3_with_aug.fit(\n",
    "    train_generator,\n",
    "    epochs=20,\n",
    "    verbose=1,\n",
    ")\n",
    "end_time = time.time()\n",
    "\n",
    "_, acc = vgg3_with_aug.evaluate(test_photos, test_labels, verbose=1)\n",
    "print('Test Accuracy: %.3f' % (acc * 100.0))\n",
    "print('Time taken:', end_time - start_time)\n",
    "vgg3_with_aug.summary()"
   ]
  }
 ],
 "metadata": {
  "kernelspec": {
   "display_name": "venv",
   "language": "python",
   "name": "python3"
  },
  "language_info": {
   "codemirror_mode": {
    "name": "ipython",
    "version": 3
   },
   "file_extension": ".py",
   "mimetype": "text/x-python",
   "name": "python",
   "nbconvert_exporter": "python",
   "pygments_lexer": "ipython3",
   "version": "3.12.4"
  }
 },
 "nbformat": 4,
 "nbformat_minor": 2
}
